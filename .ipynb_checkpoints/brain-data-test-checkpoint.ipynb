{
 "cells": [
  {
   "cell_type": "code",
   "execution_count": null,
   "id": "1a3a2c15-9461-4e27-a19c-731b52a9f756",
   "metadata": {},
   "outputs": [],
   "source": [
    "# Practice downloading open neuroimaging dataset"
   ]
  },
  {
   "cell_type": "code",
   "execution_count": 1,
   "id": "a6046599-03ec-4a0c-82fa-36f551456502",
   "metadata": {},
   "outputs": [],
   "source": [
    "import datalad.api as dl\n",
    "from datalad.api import Dataset\n",
    "from pathlib import Path\n",
    "import nibabel as nib\n",
    "import os\n",
    "import matplotlib.pyplot\n",
    "import pandas as pd\n",
    "from config import PROJECT_DIR, DOWNLOAD_PATH"
   ]
  },
  {
   "cell_type": "code",
   "execution_count": 2,
   "id": "4c1dabe1-fc97-4061-ade4-f29478abb38a",
   "metadata": {},
   "outputs": [],
   "source": [
    "# Define dataset ID\n",
    "dataset_id = \"ds000102\" # Change to the dataset you want to use\n",
    "dataset_path = DOWNLOAD_PATH / dataset_id  "
   ]
  },
  {
   "cell_type": "code",
   "execution_count": null,
   "id": "abcd4720-33e3-4c17-879a-86db052088f3",
   "metadata": {},
   "outputs": [],
   "source": [
    "if not dataset_path:\n",
    "    raise ValueError(f\"Dataset ID {dataset_id} not found in config.py!\")"
   ]
  },
  {
   "cell_type": "code",
   "execution_count": 3,
   "id": "c4158edc-a66a-4c58-a0e5-d0288d3404a9",
   "metadata": {},
   "outputs": [
    {
     "name": "stdout",
     "output_type": "stream",
     "text": [
      "Project Directory: /Users/eileenhartnett/Documents/GitHub/meta_practice\n",
      "Dataset Path: /Users/eileenhartnett/Documents/GitHub/meta_practice/datasets/ds000102\n"
     ]
    }
   ],
   "source": [
    "# Print paths for verification\n",
    "print(f\"Project Directory: {PROJECT_DIR}\")\n",
    "print(f\"Dataset Path: {dataset_path}\")"
   ]
  },
  {
   "cell_type": "code",
   "execution_count": 4,
   "id": "199c87b4-239b-40e1-aec5-332b8b82ec7c",
   "metadata": {},
   "outputs": [],
   "source": [
    "# Ensure the dataset is installed\n",
    "dataset = dl.Dataset(str(dataset_path))"
   ]
  },
  {
   "cell_type": "code",
   "execution_count": 5,
   "id": "3843f573-e155-42b9-8048-34f6441fe665",
   "metadata": {},
   "outputs": [],
   "source": [
    "if not dataset.is_installed():\n",
    "    print(f\"Dataset {dataset_id} not installed. Reinstalling...\")\n",
    "    dataset.install(source=f\"https://github.com/OpenNeuroDatasets/{dataset_id}.git\")"
   ]
  },
  {
   "cell_type": "code",
   "execution_count": 6,
   "id": "33a985fb-505f-4234-b83e-5d6d26944bdd",
   "metadata": {},
   "outputs": [],
   "source": [
    "# Define the NIfTI file path dynamically\n",
    "nifti_file = dataset_path / \"sub-13/anat/sub-13_T1w.nii.gz\""
   ]
  },
  {
   "cell_type": "code",
   "execution_count": 7,
   "id": "a841e574-1905-4594-9ed1-418a15dd6a73",
   "metadata": {},
   "outputs": [
    {
     "name": "stdout",
     "output_type": "stream",
     "text": [
      "File /Users/eileenhartnett/Documents/GitHub/meta_practice/datasets/ds000102/sub-13/anat/sub-13_T1w.nii.gz is missing or a symlink. Downloading...\n"
     ]
    }
   ],
   "source": [
    "# Ensure file exists before loading\n",
    "if not nifti_file.exists() or nifti_file.is_symlink():\n",
    "    print(f\"File {nifti_file} is missing or a symlink. Downloading...\")\n",
    "    dataset.get(path=str(nifti_file))"
   ]
  },
  {
   "cell_type": "code",
   "execution_count": 8,
   "id": "30c680b9-7309-4d2c-bd58-2b6bc3c735b8",
   "metadata": {},
   "outputs": [
    {
     "name": "stdout",
     "output_type": "stream",
     "text": [
      "Loaded NIfTI file successfully!\n"
     ]
    }
   ],
   "source": [
    "# Load the NIfTI file\n",
    "img = nib.load(str(nifti_file))\n",
    "data = img.get_fdata()\n",
    "print(\"Loaded NIfTI file successfully!\")"
   ]
  },
  {
   "cell_type": "code",
   "execution_count": null,
   "id": "ffe193c0-5655-4a79-a8b6-3447e39fd5e3",
   "metadata": {},
   "outputs": [],
   "source": []
  }
 ],
 "metadata": {
  "kernelspec": {
   "display_name": "Python 3 (ipykernel)",
   "language": "python",
   "name": "python3"
  },
  "language_info": {
   "codemirror_mode": {
    "name": "ipython",
    "version": 3
   },
   "file_extension": ".py",
   "mimetype": "text/x-python",
   "name": "python",
   "nbconvert_exporter": "python",
   "pygments_lexer": "ipython3",
   "version": "3.12.7"
  }
 },
 "nbformat": 4,
 "nbformat_minor": 5
}
